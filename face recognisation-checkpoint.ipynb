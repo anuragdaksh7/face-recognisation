{
 "cells": [
  {
   "cell_type": "code",
   "execution_count": 4,
   "id": "ba5f5aa3",
   "metadata": {},
   "outputs": [
    {
     "name": "stdout",
     "output_type": "stream",
     "text": [
      "1\n",
      "1\n",
      "1\n",
      "1\n"
     ]
    }
   ],
   "source": [
    "import cv2\n",
    "print(\"cv2 imported\")\n",
    "import numpy as np\n",
    "print(\"numpy imported\")\n",
    "from tensorflow import keras\n",
    "print(\"keras imported\")\n",
    "import tensorflow as tf\n",
    "print(\"tensorflow imported\")"
   ]
  },
  {
   "cell_type": "code",
   "execution_count": 96,
   "id": "98981a4c",
   "metadata": {},
   "outputs": [],
   "source": [
    "inputs = []\n",
    "outputs = []"
   ]
  },
  {
   "cell_type": "code",
   "execution_count": 116,
   "id": "72fc692c",
   "metadata": {
    "scrolled": true
   },
   "outputs": [
    {
     "name": "stdout",
     "output_type": "stream",
     "text": [
      "enter 1 for training inputs, 2 for testing inputs : 2\n",
      "(20, 20)\n"
     ]
    }
   ],
   "source": [
    "\n",
    "per = int(input(\"enter 1 for training inputs, 2 for testing inputs : \"))\n",
    "res = 0\n",
    "if per == 1:\n",
    "    print(\"record urself in the frame for about 15 seconds and make sure res is 1 \")\n",
    "    print(\"get out of frame for about 15 seconds and make sure res is 0 \")\n",
    "    res = int(input(\"enter res: \"))\n",
    "    print(\"do this thrice\")\n",
    "test = []\n",
    "test2 = []\n",
    "vid = cv2.VideoCapture(0)\n",
    "while(True):\n",
    "\n",
    "    # Capture the video frame\n",
    "    # by frame\n",
    "    ret, frame = vid.read()\n",
    "    #print(frame.shape)\n",
    "    frame = cv2.cvtColor(frame, cv2.COLOR_BGR2GRAY)\n",
    "    \n",
    "    if per == 2:\n",
    "        test2.append(frame/255)\n",
    "    \n",
    "    \n",
    "    # Display the resulting frame\n",
    "    cv2.imshow('frame', frame)\n",
    "    frame = cv2.resize(frame, (20, 20))\n",
    "    \n",
    "    if per == 1:\n",
    "        inputs.append(frame/255)\n",
    "        outputs.append(res)\n",
    "    \n",
    "    \n",
    "    if per == 2:\n",
    "        test.append(frame/255)\n",
    "        \n",
    "    if cv2.waitKey(1) & 0xFF == ord('q'):\n",
    "        break\n",
    "\n",
    "\n",
    "vid.release()\n",
    "\n",
    "cv2.destroyAllWindows()\n",
    "print(frame.shape)\n",
    "test = np.asarray(test)"
   ]
  },
  {
   "cell_type": "code",
   "execution_count": 109,
   "id": "3c69b52e",
   "metadata": {},
   "outputs": [
    {
     "name": "stdout",
     "output_type": "stream",
     "text": [
      "2991\n"
     ]
    }
   ],
   "source": [
    "print(len(inputs))"
   ]
  },
  {
   "cell_type": "code",
   "execution_count": 111,
   "id": "8618ece3",
   "metadata": {},
   "outputs": [
    {
     "name": "stdout",
     "output_type": "stream",
     "text": [
      "number of train inputs: 2991\n"
     ]
    }
   ],
   "source": [
    "while len(inputs)>len(outputs):\n",
    "    outputs.append(0)\n",
    "print(\"number of train inputs:\",len(inputs))\n",
    "#print(len(outputs))"
   ]
  },
  {
   "cell_type": "code",
   "execution_count": 112,
   "id": "906dc2e2",
   "metadata": {},
   "outputs": [],
   "source": [
    "newInputs = np.asarray(inputs)\n",
    "newOutputs = np.asarray(outputs)"
   ]
  },
  {
   "cell_type": "code",
   "execution_count": 113,
   "id": "96a2e17e",
   "metadata": {},
   "outputs": [],
   "source": [
    "model = keras.Sequential([\n",
    "    keras.layers.Flatten(input_shape=(20,20)),\n",
    "    keras.layers.Dense(512,activation = \"sigmoid\"),\n",
    "    keras.layers.Dense(512,activation = \"sigmoid\"),\n",
    "    keras.layers.Dense(512,activation = \"sigmoid\"),\n",
    "    keras.layers.Dense(512,activation = \"sigmoid\"),\n",
    "    keras.layers.Dense(2,activation=\"softmax\")\n",
    "    ])"
   ]
  },
  {
   "cell_type": "code",
   "execution_count": 114,
   "id": "66e7c872",
   "metadata": {},
   "outputs": [],
   "source": [
    "model.compile(optimizer=\"adam\",loss=\"sparse_categorical_crossentropy\", metrics=[\"accuracy\"])"
   ]
  },
  {
   "cell_type": "code",
   "execution_count": 115,
   "id": "01a2b456",
   "metadata": {},
   "outputs": [
    {
     "name": "stdout",
     "output_type": "stream",
     "text": [
      "Epoch 1/5\n",
      "94/94 [==============================] - 1s 11ms/step - loss: 0.6015 - accuracy: 0.6546\n",
      "Epoch 2/5\n",
      "94/94 [==============================] - 1s 11ms/step - loss: 0.0287 - accuracy: 0.9896\n",
      "Epoch 3/5\n",
      "94/94 [==============================] - 1s 11ms/step - loss: 0.0017 - accuracy: 1.0000 0s - loss:\n",
      "Epoch 4/5\n",
      "94/94 [==============================] - 1s 12ms/step - loss: 7.9767e-04 - accuracy: 1.0000\n",
      "Epoch 5/5\n",
      "94/94 [==============================] - 1s 12ms/step - loss: 4.5336e-04 - accuracy: 1.0000\n"
     ]
    },
    {
     "data": {
      "text/plain": [
       "<keras.callbacks.History at 0x1e281118e20>"
      ]
     },
     "execution_count": 115,
     "metadata": {},
     "output_type": "execute_result"
    }
   ],
   "source": [
    "model.fit(newInputs,newOutputs,epochs=5)\n"
   ]
  },
  {
   "cell_type": "code",
   "execution_count": 119,
   "id": "8d1dd3d3",
   "metadata": {},
   "outputs": [
    {
     "name": "stdout",
     "output_type": "stream",
     "text": [
      "0\r"
     ]
    }
   ],
   "source": [
    "prediction = model.predict(test)\n",
    "import time\n",
    "\n",
    "vid = cv2.VideoCapture(0)\n",
    "for i in range(len(test)):\n",
    "    time.sleep(1/20)\n",
    "    print(np.argmax(prediction[i]),end=\"\\r\")\n",
    "    frame = test[i]\n",
    "    frame = cv2.resize(frame,(640,480))\n",
    "    cv2.imshow('frame', frame)\n",
    "    if cv2.waitKey(1) & 0xFF == ord('q'):\n",
    "        break\n",
    "\n",
    "vid.release()\n",
    "\n",
    "cv2.destroyAllWindows()"
   ]
  },
  {
   "cell_type": "code",
   "execution_count": null,
   "id": "fc300d17",
   "metadata": {},
   "outputs": [],
   "source": []
  }
 ],
 "metadata": {
  "kernelspec": {
   "display_name": "Python 3 (ipykernel)",
   "language": "python",
   "name": "python3"
  },
  "language_info": {
   "codemirror_mode": {
    "name": "ipython",
    "version": 3
   },
   "file_extension": ".py",
   "mimetype": "text/x-python",
   "name": "python",
   "nbconvert_exporter": "python",
   "pygments_lexer": "ipython3",
   "version": "3.9.9"
  }
 },
 "nbformat": 4,
 "nbformat_minor": 5
}
